{
 "cells": [
  {
   "cell_type": "code",
   "execution_count": 2,
   "metadata": {},
   "outputs": [],
   "source": [
    "import numpy as np\n",
    "import torch"
   ]
  },
  {
   "cell_type": "code",
   "execution_count": 3,
   "metadata": {},
   "outputs": [
    {
     "data": {
      "text/plain": [
       "array([[0., 0., 0., ..., 0., 0., 0.],\n",
       "       [0., 0., 0., ..., 0., 0., 0.],\n",
       "       [0., 0., 0., ..., 0., 0., 0.],\n",
       "       ...,\n",
       "       [0., 0., 0., ..., 0., 0., 0.],\n",
       "       [0., 0., 0., ..., 0., 0., 0.],\n",
       "       [0., 0., 0., ..., 0., 0., 0.]], shape=(384, 633), dtype=float32)"
      ]
     },
     "execution_count": 3,
     "metadata": {},
     "output_type": "execute_result"
    }
   ],
   "source": [
    "test = np.load(\"data/FSC147_384_V2/gt_density_map_adaptive_384_VarV2/2.npy\")\n",
    "test"
   ]
  },
  {
   "cell_type": "code",
   "execution_count": 20,
   "metadata": {},
   "outputs": [
    {
     "data": {
      "text/plain": [
       "tensor([[[ 1,  2],\n",
       "         [ 4,  5],\n",
       "         [ 7,  8]],\n",
       "\n",
       "        [[11, 22],\n",
       "         [44, 55],\n",
       "         [77, 88]]])"
      ]
     },
     "execution_count": 20,
     "metadata": {},
     "output_type": "execute_result"
    }
   ],
   "source": [
    "a = torch.tensor([[[1,2,3],\n",
    "                  [4,5,6],\n",
    "                  [7,8,9]],\n",
    "                  [[11,22,33],\n",
    "                  [44,55,66],\n",
    "                  [77,88,99]]])\n",
    "\n",
    "a.shape\n",
    "\n",
    "x1 = [0,int(0)]\n",
    "x2 = [2,1]\n",
    "\n",
    "a[:, x1[0]:x2[0]+1, x1[1]:x2[1]+1]"
   ]
  },
  {
   "cell_type": "code",
   "execution_count": 3,
   "metadata": {},
   "outputs": [
    {
     "name": "stderr",
     "output_type": "stream",
     "text": [
      "Downloading: \"https://github.com/pytorch/vision/zipball/v0.10.0\" to /Users/andrewluther/.cache/torch/hub/v0.10.0.zip\n",
      "Downloading: \"https://download.pytorch.org/models/resnet50-0676ba61.pth\" to /Users/andrewluther/.cache/torch/hub/checkpoints/resnet50-0676ba61.pth\n",
      "100.0%\n"
     ]
    }
   ],
   "source": [
    "# https://pytorch.org/hub/pytorch_vision_resnet/\n",
    "model = torch.hub.load('pytorch/vision:v0.10.0', 'resnet50', pretrained=True)"
   ]
  },
  {
   "cell_type": "code",
   "execution_count": 14,
   "metadata": {},
   "outputs": [
    {
     "data": {
      "text/plain": [
       "tensor([[ 1.0000,  1.0000,  0.9608,  0.1555],\n",
       "        [ 1.0000,  1.0000,  0.9608,  0.1555],\n",
       "        [ 0.9608,  0.9608,  1.0000, -0.1245],\n",
       "        [ 0.1555,  0.1555, -0.1245,  1.0000]], dtype=torch.float64)"
      ]
     },
     "execution_count": 14,
     "metadata": {},
     "output_type": "execute_result"
    }
   ],
   "source": [
    "import numpy as np\n",
    "import torch\n",
    "\n",
    "# ref https://stackoverflow.com/questions/49768306/pytorch-tensor-to-numpy-array\n",
    "\n",
    "\n",
    "a = torch.tensor([[1,2,3],\n",
    "             [4,5,6]]).detach().numpy()\n",
    "\n",
    "b = torch.tensor([[-1,2,3],\n",
    "             [4,-6,6]]).detach().numpy()\n",
    "\n",
    "correlation = torch.from_numpy(np.corrcoef(a, b))\n",
    "correlation"
   ]
  },
  {
   "cell_type": "markdown",
   "metadata": {},
   "source": [
    "## Testing the correlation map stuff"
   ]
  },
  {
   "cell_type": "code",
   "execution_count": 25,
   "metadata": {},
   "outputs": [
    {
     "name": "stdout",
     "output_type": "stream",
     "text": [
      "torch.Size([1, 2, 5, 5])\n",
      "torch.Size([2, 2, 3, 3])\n"
     ]
    },
    {
     "data": {
      "text/plain": [
       "tensor([[[[0, 6, 6, 6, 6],\n",
       "          [0, 9, 9, 9, 9],\n",
       "          [0, 9, 9, 9, 9],\n",
       "          [0, 9, 9, 9, 9],\n",
       "          [0, 6, 6, 6, 6]],\n",
       "\n",
       "         [[0, 0, 0, 0, 0],\n",
       "          [0, 0, 0, 0, 0],\n",
       "          [0, 0, 0, 0, 0],\n",
       "          [0, 0, 0, 0, 0],\n",
       "          [0, 0, 0, 0, 0]]]])"
      ]
     },
     "execution_count": 25,
     "metadata": {},
     "output_type": "execute_result"
    }
   ],
   "source": [
    "# Testing to make sure conv2d does what we think it does\n",
    "import torch\n",
    "import torch.nn.functional as F\n",
    "\n",
    "image = torch.tensor(\n",
    "        [[[[1, 1, 1, 1, 1],\n",
    "         [1, 1, 1, 1, 1],\n",
    "         [1, 1, 1, 1, 1],\n",
    "         [1, 1, 1, 1, 1],\n",
    "         [1, 1, 1, 1, 1],],\n",
    "         [[2, 2, 2, 2, 2],\n",
    "         [2, 2, 2, 2, 2],\n",
    "         [2, 2, 2, 2, 2],\n",
    "         [2, 2, 2, 2, 2],\n",
    "         [2, 2, 2, 2, 2],]]]\n",
    "         )\n",
    "\n",
    "kernel = torch.tensor(\n",
    "                    [[[[1,0,0],\n",
    "                    [1,0,0], \n",
    "                    [1,0,0], ],\n",
    "                    [[1,0,0],\n",
    "                    [1,0,0], \n",
    "                    [1,0,0], ]],\n",
    "                    [[[0,0,0],\n",
    "                    [0,0,0], \n",
    "                    [0,0,0], ],\n",
    "                    [[0,0,0],\n",
    "                    [0,0,0], \n",
    "                    [0,0,0], ]]])\n",
    "\n",
    "print(image.shape)\n",
    "print(kernel.shape)\n",
    "\n",
    "correlation_map = F.conv2d(image, kernel, stride=1, padding=1)\n",
    "\n",
    "correlation_map\n"
   ]
  },
  {
   "cell_type": "code",
   "execution_count": 34,
   "metadata": {},
   "outputs": [
    {
     "data": {
      "text/plain": [
       "tensor([[0.0439, 0.3247, 0.8825],\n",
       "        [0.8825, 0.3247, 0.0439]])"
      ]
     },
     "execution_count": 34,
     "metadata": {},
     "output_type": "execute_result"
    }
   ],
   "source": [
    "import torch\n",
    "\n",
    "torch.signal.windows.gaussian(6).view((2,3))"
   ]
  }
 ],
 "metadata": {
  "kernelspec": {
   "display_name": ".venv",
   "language": "python",
   "name": "python3"
  },
  "language_info": {
   "codemirror_mode": {
    "name": "ipython",
    "version": 3
   },
   "file_extension": ".py",
   "mimetype": "text/x-python",
   "name": "python",
   "nbconvert_exporter": "python",
   "pygments_lexer": "ipython3",
   "version": "3.11.9"
  }
 },
 "nbformat": 4,
 "nbformat_minor": 2
}
